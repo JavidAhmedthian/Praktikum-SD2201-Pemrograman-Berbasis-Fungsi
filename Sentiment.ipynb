{
  "nbformat": 4,
  "nbformat_minor": 0,
  "metadata": {
    "colab": {
      "provenance": []
    },
    "kernelspec": {
      "name": "python3",
      "display_name": "Python 3"
    },
    "language_info": {
      "name": "python"
    }
  },
  "cells": [
    {
      "cell_type": "code",
      "source": [
        "import pandas as pd\n",
        "df = pd.read_excel(\"/content/kata-kata.xlsx\")"
      ],
      "metadata": {
        "id": "3u_7bAJlQwUw"
      },
      "execution_count": 1,
      "outputs": []
    },
    {
      "cell_type": "code",
      "source": [
        "def positif_list_count(text):\n",
        "    positif_list = df[\"Positif\"].tolist()\n",
        "    return sum(1 for word in text.split() if word.lower() in positif_list)\n",
        "\n",
        "def negatif_list_count(text):\n",
        "    negatif_list = df[\"Negatif\"].tolist()\n",
        "    return sum(1 for word in text.split() if word.lower() in negatif_list)\n",
        "\n",
        "def sentiment_analysis(text, positive_func, negative_func):\n",
        "    positive_count = positive_func(text)\n",
        "    negative_count = negative_func(text)\n",
        "    if positive_count > negative_count or positive_count > 0:\n",
        "        return \"Positif\"\n",
        "    elif positive_count < negative_count or positive_count < 0:\n",
        "        return \"Negatif\"\n",
        "    else:\n",
        "        return \"Netral\"\n",
        "\n",
        "\n",
        "Ulasan = input(\"Masukkan ulasan: \")\n",
        "\n",
        "result = sentiment_analysis(Ulasan, positif_list_count, negatif_list_count)\n",
        "\n",
        "print(\"Sentimen:\", result)\n"
      ],
      "metadata": {
        "colab": {
          "base_uri": "https://localhost:8080/"
        },
        "id": "ukRV8eAAYgwE",
        "outputId": "22e04608-5693-4b0d-e615-bc070ebbb17d"
      },
      "execution_count": 2,
      "outputs": [
        {
          "output_type": "stream",
          "name": "stdout",
          "text": [
            "Masukkan ulasan: film yang bagus\n",
            "Sentimen: Positif\n"
          ]
        }
      ]
    }
  ]
}