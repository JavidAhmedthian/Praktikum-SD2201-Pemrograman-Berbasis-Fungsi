{
  "nbformat": 4,
  "nbformat_minor": 0,
  "metadata": {
    "colab": {
      "provenance": []
    },
    "kernelspec": {
      "name": "python3",
      "display_name": "Python 3"
    },
    "language_info": {
      "name": "python"
    }
  },
  "cells": [
    {
      "cell_type": "code",
      "execution_count": 4,
      "metadata": {
        "id": "4qQlxFI6fYsh"
      },
      "outputs": [],
      "source": [
        "import pandas as pd\n",
        "from sklearn.datasets import load_iris\n",
        "\n",
        "# Muat dataset Iris\n",
        "iris = load_iris()\n",
        "iris_df = pd.DataFrame(data=iris.data, columns=iris.feature_names)\n",
        "iris_df['species'] = iris.target_names[iris.target]\n"
      ]
    },
    {
      "cell_type": "code",
      "source": [
        "#Fungsi Random Sampling\n",
        "import random\n",
        "def data_sampler(df, replacement):\n",
        "    def sample(sample_size):\n",
        "        if replacement:\n",
        "            return [random.choice(df.index) for _ in range(sample_size)]\n",
        "        else:\n",
        "            return random.sample(list(df.index), sample_size)\n",
        "\n",
        "    return sample"
      ],
      "metadata": {
        "id": "N0eOySl0fxpl"
      },
      "execution_count": null,
      "outputs": []
    },
    {
      "cell_type": "code",
      "source": [
        "# Contoh penggunaan pada spesies Setosa dengan sampel acak sebanyak 5\n",
        "sampel_iris = data_sampler(iris_df[iris_df['species'] == 'setosa'], replacement=True)\n",
        "sampled_final = sampel_iris(5)\n",
        "print(\"Sampel Acak:\", sampled_final)\n",
        "print(\"Dataframe Sampel Acak:\")\n",
        "print(iris_df.loc[sampled_final])"
      ],
      "metadata": {
        "colab": {
          "base_uri": "https://localhost:8080/"
        },
        "id": "YiOlK4rigSg3",
        "outputId": "2f4d4230-925d-4fab-d2c5-d73d82fcdfac"
      },
      "execution_count": 5,
      "outputs": [
        {
          "output_type": "stream",
          "name": "stdout",
          "text": [
            "Sampel Acak: [15, 0, 32, 39, 36]\n",
            "Dataframe Sampel Acak:\n",
            "    sepal length (cm)  sepal width (cm)  petal length (cm)  petal width (cm)  \\\n",
            "15                5.7               4.4                1.5               0.4   \n",
            "0                 5.1               3.5                1.4               0.2   \n",
            "32                5.2               4.1                1.5               0.1   \n",
            "39                5.1               3.4                1.5               0.2   \n",
            "36                5.5               3.5                1.3               0.2   \n",
            "\n",
            "   species  \n",
            "15  setosa  \n",
            "0   setosa  \n",
            "32  setosa  \n",
            "39  setosa  \n",
            "36  setosa  \n"
          ]
        }
      ]
    },
    {
      "cell_type": "code",
      "source": [
        "# Contoh penggunaan pada spesies Versicolor dengan sampel acak sebanyak 5\n",
        "sampel_iris = data_sampler(iris_df[iris_df['species'] == 'versicolor'], replacement=False)\n",
        "sampled_final = sampel_iris(5)\n",
        "print(\"Sampel Acak:\", sampled_final)\n",
        "print(\"Dataframe Sampel Acak:\")\n",
        "print(iris_df.loc[sampled_final])"
      ],
      "metadata": {
        "colab": {
          "base_uri": "https://localhost:8080/"
        },
        "id": "CWFUuoEukFvb",
        "outputId": "a905e55d-2239-4af5-ced0-17b0e82fc75a"
      },
      "execution_count": 6,
      "outputs": [
        {
          "output_type": "stream",
          "name": "stdout",
          "text": [
            "Sampel Acak: [75, 72, 58, 91, 88]\n",
            "Dataframe Sampel Acak:\n",
            "    sepal length (cm)  sepal width (cm)  petal length (cm)  petal width (cm)  \\\n",
            "75                6.6               3.0                4.4               1.4   \n",
            "72                6.3               2.5                4.9               1.5   \n",
            "58                6.6               2.9                4.6               1.3   \n",
            "91                6.1               3.0                4.6               1.4   \n",
            "88                5.6               3.0                4.1               1.3   \n",
            "\n",
            "       species  \n",
            "75  versicolor  \n",
            "72  versicolor  \n",
            "58  versicolor  \n",
            "91  versicolor  \n",
            "88  versicolor  \n"
          ]
        }
      ]
    },
    {
      "cell_type": "code",
      "source": [
        "# Contoh penggunaan pada spesies Virginica dengan sampel acak sebanyak 5\n",
        "sampel_iris = data_sampler(iris_df[iris_df['species'] == 'virginica'], replacement=False)\n",
        "sampled_final = sampel_iris(5)\n",
        "print(\"Sampel Acak:\", sampled_final)\n",
        "print(\"Dataframe Sampel Acak:\")\n",
        "print(iris_df.loc[sampled_final])"
      ],
      "metadata": {
        "colab": {
          "base_uri": "https://localhost:8080/"
        },
        "id": "WDsf8QKckF6B",
        "outputId": "8c5b1339-1875-423b-a5fe-3deebdf7e179"
      },
      "execution_count": 8,
      "outputs": [
        {
          "output_type": "stream",
          "name": "stdout",
          "text": [
            "Sampel Acak: [117, 130, 115, 135, 132]\n",
            "Dataframe Sampel Acak:\n",
            "     sepal length (cm)  sepal width (cm)  petal length (cm)  petal width (cm)  \\\n",
            "117                7.7               3.8                6.7               2.2   \n",
            "130                7.4               2.8                6.1               1.9   \n",
            "115                6.4               3.2                5.3               2.3   \n",
            "135                7.7               3.0                6.1               2.3   \n",
            "132                6.4               2.8                5.6               2.2   \n",
            "\n",
            "       species  \n",
            "117  virginica  \n",
            "130  virginica  \n",
            "115  virginica  \n",
            "135  virginica  \n",
            "132  virginica  \n"
          ]
        }
      ]
    }
  ]
}